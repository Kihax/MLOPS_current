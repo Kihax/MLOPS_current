{
 "cells": [
  {
   "cell_type": "code",
   "execution_count": 7,
   "id": "e01e564b-cc14-48a2-88d9-d55bc69d76de",
   "metadata": {},
   "outputs": [
    {
     "data": {
      "application/vnd.jupyter.widget-view+json": {
       "model_id": "32e1b262e7af4acba8e79fa09d96f9f6",
       "version_major": 2,
       "version_minor": 0
      },
      "text/plain": [
       "Downloading artifacts:   0%|          | 0/11 [00:00<?, ?it/s]"
      ]
     },
     "metadata": {},
     "output_type": "display_data"
    },
    {
     "name": "stderr",
     "output_type": "stream",
     "text": [
      "2024/04/29 15:33:10 INFO mlflow.store.artifact.artifact_repo: The progress bar can be disabled by setting the environment variable MLFLOW_ENABLE_ARTIFACTS_PROGRESS_BAR to false\n"
     ]
    },
    {
     "name": "stdout",
     "output_type": "stream",
     "text": [
      "RandomForestClassifier(max_depth=19, n_estimators=149, warm_start=True)\n"
     ]
    }
   ],
   "source": [
    "import mlflow\n",
    "import numpy as np\n",
    "mlflow.set_tracking_uri(uri=\"http://mlflow-server:8080\")\n",
    "logged_model = 'runs:/e1ddeba046c54562bfcac134ec551809/answers_classification'\n",
    "\n",
    "# Load model as a sci-kit model You can use also a PyFuncModel.\n",
    "loaded_model = mlflow.sklearn.load_model(logged_model)\n",
    "print(loaded_model)"
   ]
  },
  {
   "cell_type": "code",
   "execution_count": 11,
   "id": "12b8c876-978d-4d8f-82b9-99bbf632d828",
   "metadata": {},
   "outputs": [
    {
     "name": "stdout",
     "output_type": "stream",
     "text": [
      "[0]\n"
     ]
    },
    {
     "name": "stderr",
     "output_type": "stream",
     "text": [
      "/opt/conda/lib/python3.11/site-packages/sklearn/base.py:486: UserWarning: X has feature names, but RandomForestClassifier was fitted without feature names\n",
      "  warnings.warn(\n"
     ]
    }
   ],
   "source": [
    "import pandas as pd\n",
    "df = pd.DataFrame(np.array([[0.1, 0, 0.1, 5, 0]]), columns=['time_elapsed', 'interest', 'completion_rate', 'job_title', 'previous_answers'])\n",
    "df['interest'] = df['interest'].astype(np.int32)\n",
    "df['job_title'] = df['job_title'].astype(np.int32)\n",
    "df['previous_answers'] = df['previous_answers'].astype(np.int32)\n",
    "\n",
    "result = loaded_model.predict(df)\n",
    "print(result)"
   ]
  },
  {
   "cell_type": "code",
   "execution_count": 12,
   "id": "da41f95a-039f-4bf9-b961-48986f98fed7",
   "metadata": {},
   "outputs": [],
   "source": [
    "from sklearn import tree\n",
    "i_tree = 0\n",
    "fn=['time_elapsed', 'interest', 'completion_rate', 'job_title', 'previous_answers']\n",
    "cn=['REJECTED', 'VALIDATED']\n",
    "for tree_in_forest in loaded_model.estimators_:\n",
    "    with open('tree_' + str(i_tree) + '.dot', 'w') as my_file:\n",
    "        my_file = tree.export_graphviz(tree_in_forest, out_file = my_file, feature_names = fn, class_names=cn)\n",
    "    i_tree = i_tree + 1"
   ]
  },
  {
   "cell_type": "code",
   "execution_count": 17,
   "id": "af9e4c0f-9115-47f0-b8eb-23707ea61e47",
   "metadata": {},
   "outputs": [
    {
     "name": "stdout",
     "output_type": "stream",
     "text": [
      "[   0 4702 4703 4704 4705 4706 5078 5134 5168 5169 5183 5184 5202 5203\n",
      " 5204 5205 5206 5208 5210 5212]\n"
     ]
    },
    {
     "name": "stderr",
     "output_type": "stream",
     "text": [
      "/opt/conda/lib/python3.11/site-packages/sklearn/base.py:486: UserWarning: X has feature names, but DecisionTreeClassifier was fitted without feature names\n",
      "  warnings.warn(\n",
      "/opt/conda/lib/python3.11/site-packages/sklearn/base.py:486: UserWarning: X has feature names, but DecisionTreeClassifier was fitted without feature names\n",
      "  warnings.warn(\n",
      "/opt/conda/lib/python3.11/site-packages/sklearn/base.py:486: UserWarning: X has feature names, but DecisionTreeClassifier was fitted without feature names\n",
      "  warnings.warn(\n"
     ]
    }
   ],
   "source": [
    "tree=loaded_model.estimators_[1]\n",
    "tree.decision_path(df)\n",
    "node_indicator = tree.decision_path(df)\n",
    "leave_id = tree.apply(df)\n",
    "\n",
    "node_index = node_indicator.indices[node_indicator.indptr[0]:\n",
    "                                        node_indicator.indptr[1]]\n",
    "\n",
    "\n",
    "print(node_index)"
   ]
  },
  {
   "cell_type": "code",
   "execution_count": null,
   "id": "80fe4040-4e76-440f-9f11-4fbfea9e7209",
   "metadata": {},
   "outputs": [],
   "source": []
  }
 ],
 "metadata": {
  "kernelspec": {
   "display_name": "Python 3 (ipykernel)",
   "language": "python",
   "name": "python3"
  },
  "language_info": {
   "codemirror_mode": {
    "name": "ipython",
    "version": 3
   },
   "file_extension": ".py",
   "mimetype": "text/x-python",
   "name": "python",
   "nbconvert_exporter": "python",
   "pygments_lexer": "ipython3",
   "version": "3.11.8"
  }
 },
 "nbformat": 4,
 "nbformat_minor": 5
}
