{
 "cells": [
  {
   "cell_type": "code",
   "execution_count": 1,
   "id": "114a21e0-3035-4c81-a7cf-39ff2bf3abff",
   "metadata": {},
   "outputs": [
    {
     "name": "stdout",
     "output_type": "stream",
     "text": [
      "Requirement already satisfied: PyTDC in /opt/conda/lib/python3.11/site-packages (1.1.12)\n",
      "Requirement already satisfied: accelerate==0.33.0 in /opt/conda/lib/python3.11/site-packages (from PyTDC) (0.33.0)\n",
      "Requirement already satisfied: dataclasses<1.0,>=0.6 in /opt/conda/lib/python3.11/site-packages (from PyTDC) (0.6)\n",
      "Requirement already satisfied: datasets<2.20.0 in /opt/conda/lib/python3.11/site-packages (from PyTDC) (2.19.2)\n",
      "Requirement already satisfied: evaluate==0.4.2 in /opt/conda/lib/python3.11/site-packages (from PyTDC) (0.4.2)\n",
      "Requirement already satisfied: fuzzywuzzy<1.0,>=0.18.0 in /opt/conda/lib/python3.11/site-packages (from PyTDC) (0.18.0)\n",
      "Requirement already satisfied: huggingface-hub<1.0,>=0.20.3 in /opt/conda/lib/python3.11/site-packages (from PyTDC) (0.28.0)\n",
      "Requirement already satisfied: numpy<2.0.0,>=1.26.4 in /opt/conda/lib/python3.11/site-packages (from PyTDC) (1.26.4)\n",
      "Requirement already satisfied: openpyxl<4.0.0,>=3.0.10 in /opt/conda/lib/python3.11/site-packages (from PyTDC) (3.1.5)\n",
      "Requirement already satisfied: pandas<3.0.0,>=2.1.4 in /opt/conda/lib/python3.11/site-packages (from PyTDC) (2.2.3)\n",
      "Requirement already satisfied: requests<3.0.0,>=2.31.0 in /opt/conda/lib/python3.11/site-packages (from PyTDC) (2.32.3)\n",
      "Requirement already satisfied: scikit-learn==1.2.2 in /opt/conda/lib/python3.11/site-packages (from PyTDC) (1.2.2)\n",
      "Requirement already satisfied: seaborn<1.0.0,>=0.12.2 in /opt/conda/lib/python3.11/site-packages (from PyTDC) (0.13.2)\n",
      "Requirement already satisfied: tqdm<5.0.0,>=4.65.0 in /opt/conda/lib/python3.11/site-packages (from PyTDC) (4.66.5)\n",
      "Requirement already satisfied: transformers==4.43.4 in /opt/conda/lib/python3.11/site-packages (from PyTDC) (4.43.4)\n",
      "Requirement already satisfied: cellxgene-census==1.15.0 in /opt/conda/lib/python3.11/site-packages (from PyTDC) (1.15.0)\n",
      "Requirement already satisfied: gget<1.0.0,>=0.28.4 in /opt/conda/lib/python3.11/site-packages (from PyTDC) (0.29.0)\n",
      "Requirement already satisfied: pydantic<3.0.0,>=2.6.3 in /opt/conda/lib/python3.11/site-packages (from PyTDC) (2.9.2)\n",
      "Requirement already satisfied: rdkit<2024.3.1,>=2023.9.5 in /opt/conda/lib/python3.11/site-packages (from PyTDC) (2023.9.6)\n",
      "Requirement already satisfied: tiledbsoma<2.0.0,>=1.7.2 in /opt/conda/lib/python3.11/site-packages (from PyTDC) (1.11.4)\n",
      "Requirement already satisfied: yapf<1.0.0,>=0.40.2 in /opt/conda/lib/python3.11/site-packages (from PyTDC) (0.43.0)\n",
      "Requirement already satisfied: packaging>=20.0 in /opt/conda/lib/python3.11/site-packages (from accelerate==0.33.0->PyTDC) (24.1)\n",
      "Requirement already satisfied: psutil in /opt/conda/lib/python3.11/site-packages (from accelerate==0.33.0->PyTDC) (6.0.0)\n",
      "Requirement already satisfied: pyyaml in /opt/conda/lib/python3.11/site-packages (from accelerate==0.33.0->PyTDC) (6.0.2)\n",
      "Requirement already satisfied: torch>=1.10.0 in /opt/conda/lib/python3.11/site-packages (from accelerate==0.33.0->PyTDC) (2.5.1)\n",
      "Requirement already satisfied: safetensors>=0.3.1 in /opt/conda/lib/python3.11/site-packages (from accelerate==0.33.0->PyTDC) (0.5.2)\n",
      "Requirement already satisfied: anndata in /opt/conda/lib/python3.11/site-packages (from cellxgene-census==1.15.0->PyTDC) (0.11.3)\n",
      "Requirement already satisfied: typing-extensions in /opt/conda/lib/python3.11/site-packages (from cellxgene-census==1.15.0->PyTDC) (4.12.2)\n",
      "Requirement already satisfied: s3fs>=2021.06.1 in /opt/conda/lib/python3.11/site-packages (from cellxgene-census==1.15.0->PyTDC) (2024.3.1)\n",
      "Requirement already satisfied: dill in /opt/conda/lib/python3.11/site-packages (from evaluate==0.4.2->PyTDC) (0.3.8)\n",
      "Requirement already satisfied: xxhash in /opt/conda/lib/python3.11/site-packages (from evaluate==0.4.2->PyTDC) (3.5.0)\n",
      "Requirement already satisfied: multiprocess in /opt/conda/lib/python3.11/site-packages (from evaluate==0.4.2->PyTDC) (0.70.16)\n",
      "Requirement already satisfied: fsspec>=2021.05.0 in /opt/conda/lib/python3.11/site-packages (from fsspec[http]>=2021.05.0->evaluate==0.4.2->PyTDC) (2024.3.1)\n",
      "Requirement already satisfied: scipy>=1.3.2 in /opt/conda/lib/python3.11/site-packages (from scikit-learn==1.2.2->PyTDC) (1.15.1)\n",
      "Requirement already satisfied: joblib>=1.1.1 in /opt/conda/lib/python3.11/site-packages (from scikit-learn==1.2.2->PyTDC) (1.4.2)\n",
      "Requirement already satisfied: threadpoolctl>=2.0.0 in /opt/conda/lib/python3.11/site-packages (from scikit-learn==1.2.2->PyTDC) (3.5.0)\n",
      "Requirement already satisfied: filelock in /opt/conda/lib/python3.11/site-packages (from transformers==4.43.4->PyTDC) (3.17.0)\n",
      "Requirement already satisfied: regex!=2019.12.17 in /opt/conda/lib/python3.11/site-packages (from transformers==4.43.4->PyTDC) (2024.11.6)\n",
      "Requirement already satisfied: tokenizers<0.20,>=0.19 in /opt/conda/lib/python3.11/site-packages (from transformers==4.43.4->PyTDC) (0.19.1)\n",
      "Requirement already satisfied: pyarrow>=12.0.0 in /opt/conda/lib/python3.11/site-packages (from datasets<2.20.0->PyTDC) (18.1.0)\n",
      "Requirement already satisfied: pyarrow-hotfix in /opt/conda/lib/python3.11/site-packages (from datasets<2.20.0->PyTDC) (0.6)\n",
      "Requirement already satisfied: aiohttp in /opt/conda/lib/python3.11/site-packages (from datasets<2.20.0->PyTDC) (3.11.11)\n",
      "Requirement already satisfied: ipython in /opt/conda/lib/python3.11/site-packages (from gget<1.0.0,>=0.28.4->PyTDC) (8.28.0)\n",
      "Requirement already satisfied: matplotlib in /opt/conda/lib/python3.11/site-packages (from gget<1.0.0,>=0.28.4->PyTDC) (3.10.0)\n",
      "Requirement already satisfied: mysql-connector-python>=8.0.32 in /opt/conda/lib/python3.11/site-packages (from gget<1.0.0,>=0.28.4->PyTDC) (9.2.0)\n",
      "Requirement already satisfied: beautifulsoup4>=4.10.0 in /opt/conda/lib/python3.11/site-packages (from gget<1.0.0,>=0.28.4->PyTDC) (4.12.3)\n",
      "Requirement already satisfied: ipywidgets in /opt/conda/lib/python3.11/site-packages (from gget<1.0.0,>=0.28.4->PyTDC) (8.1.5)\n",
      "Requirement already satisfied: lxml in /opt/conda/lib/python3.11/site-packages (from gget<1.0.0,>=0.28.4->PyTDC) (5.3.0)\n",
      "Requirement already satisfied: et-xmlfile in /opt/conda/lib/python3.11/site-packages (from openpyxl<4.0.0,>=3.0.10->PyTDC) (2.0.0)\n",
      "Requirement already satisfied: python-dateutil>=2.8.2 in /opt/conda/lib/python3.11/site-packages (from pandas<3.0.0,>=2.1.4->PyTDC) (2.9.0)\n",
      "Requirement already satisfied: pytz>=2020.1 in /opt/conda/lib/python3.11/site-packages (from pandas<3.0.0,>=2.1.4->PyTDC) (2024.2)\n",
      "Requirement already satisfied: tzdata>=2022.7 in /opt/conda/lib/python3.11/site-packages (from pandas<3.0.0,>=2.1.4->PyTDC) (2025.1)\n",
      "Requirement already satisfied: annotated-types>=0.6.0 in /opt/conda/lib/python3.11/site-packages (from pydantic<3.0.0,>=2.6.3->PyTDC) (0.7.0)\n",
      "Requirement already satisfied: pydantic-core==2.23.4 in /opt/conda/lib/python3.11/site-packages (from pydantic<3.0.0,>=2.6.3->PyTDC) (2.23.4)\n",
      "Requirement already satisfied: Pillow in /opt/conda/lib/python3.11/site-packages (from rdkit<2024.3.1,>=2023.9.5->PyTDC) (11.1.0)\n",
      "Requirement already satisfied: charset-normalizer<4,>=2 in /opt/conda/lib/python3.11/site-packages (from requests<3.0.0,>=2.31.0->PyTDC) (3.4.0)\n",
      "Requirement already satisfied: idna<4,>=2.5 in /opt/conda/lib/python3.11/site-packages (from requests<3.0.0,>=2.31.0->PyTDC) (3.10)\n",
      "Requirement already satisfied: urllib3<3,>=1.21.1 in /opt/conda/lib/python3.11/site-packages (from requests<3.0.0,>=2.31.0->PyTDC) (2.2.3)\n",
      "Requirement already satisfied: certifi>=2017.4.17 in /opt/conda/lib/python3.11/site-packages (from requests<3.0.0,>=2.31.0->PyTDC) (2024.8.30)\n",
      "Requirement already satisfied: attrs>=22.2 in /opt/conda/lib/python3.11/site-packages (from tiledbsoma<2.0.0,>=1.7.2->PyTDC) (24.2.0)\n",
      "Requirement already satisfied: numba>=0.58.0 in /opt/conda/lib/python3.11/site-packages (from tiledbsoma<2.0.0,>=1.7.2->PyTDC) (0.61.0)\n",
      "Requirement already satisfied: scanpy>=1.9.2 in /opt/conda/lib/python3.11/site-packages (from tiledbsoma<2.0.0,>=1.7.2->PyTDC) (1.10.4)\n",
      "Requirement already satisfied: somacore==1.0.11 in /opt/conda/lib/python3.11/site-packages (from tiledbsoma<2.0.0,>=1.7.2->PyTDC) (1.0.11)\n",
      "Requirement already satisfied: tiledb~=0.29.0 in /opt/conda/lib/python3.11/site-packages (from tiledbsoma<2.0.0,>=1.7.2->PyTDC) (0.29.1)\n",
      "Requirement already satisfied: platformdirs>=3.5.1 in /opt/conda/lib/python3.11/site-packages (from yapf<1.0.0,>=0.40.2->PyTDC) (4.3.6)\n",
      "Requirement already satisfied: array-api-compat!=1.5,>1.4 in /opt/conda/lib/python3.11/site-packages (from anndata->cellxgene-census==1.15.0->PyTDC) (1.10.0)\n",
      "Requirement already satisfied: h5py>=3.7 in /opt/conda/lib/python3.11/site-packages (from anndata->cellxgene-census==1.15.0->PyTDC) (3.12.1)\n",
      "Requirement already satisfied: natsort in /opt/conda/lib/python3.11/site-packages (from anndata->cellxgene-census==1.15.0->PyTDC) (8.4.0)\n",
      "Requirement already satisfied: soupsieve>1.2 in /opt/conda/lib/python3.11/site-packages (from beautifulsoup4>=4.10.0->gget<1.0.0,>=0.28.4->PyTDC) (2.5)\n",
      "Requirement already satisfied: aiohappyeyeballs>=2.3.0 in /opt/conda/lib/python3.11/site-packages (from aiohttp->datasets<2.20.0->PyTDC) (2.4.4)\n",
      "Requirement already satisfied: aiosignal>=1.1.2 in /opt/conda/lib/python3.11/site-packages (from aiohttp->datasets<2.20.0->PyTDC) (1.3.2)\n",
      "Requirement already satisfied: frozenlist>=1.1.1 in /opt/conda/lib/python3.11/site-packages (from aiohttp->datasets<2.20.0->PyTDC) (1.5.0)\n",
      "Requirement already satisfied: multidict<7.0,>=4.5 in /opt/conda/lib/python3.11/site-packages (from aiohttp->datasets<2.20.0->PyTDC) (6.1.0)\n",
      "Requirement already satisfied: propcache>=0.2.0 in /opt/conda/lib/python3.11/site-packages (from aiohttp->datasets<2.20.0->PyTDC) (0.2.1)\n",
      "Requirement already satisfied: yarl<2.0,>=1.17.0 in /opt/conda/lib/python3.11/site-packages (from aiohttp->datasets<2.20.0->PyTDC) (1.18.3)\n",
      "Requirement already satisfied: contourpy>=1.0.1 in /opt/conda/lib/python3.11/site-packages (from matplotlib->gget<1.0.0,>=0.28.4->PyTDC) (1.3.1)\n",
      "Requirement already satisfied: cycler>=0.10 in /opt/conda/lib/python3.11/site-packages (from matplotlib->gget<1.0.0,>=0.28.4->PyTDC) (0.12.1)\n",
      "Requirement already satisfied: fonttools>=4.22.0 in /opt/conda/lib/python3.11/site-packages (from matplotlib->gget<1.0.0,>=0.28.4->PyTDC) (4.55.7)\n",
      "Requirement already satisfied: kiwisolver>=1.3.1 in /opt/conda/lib/python3.11/site-packages (from matplotlib->gget<1.0.0,>=0.28.4->PyTDC) (1.4.8)\n",
      "Requirement already satisfied: pyparsing>=2.3.1 in /opt/conda/lib/python3.11/site-packages (from matplotlib->gget<1.0.0,>=0.28.4->PyTDC) (3.2.1)\n",
      "Requirement already satisfied: llvmlite<0.45,>=0.44.0dev0 in /opt/conda/lib/python3.11/site-packages (from numba>=0.58.0->tiledbsoma<2.0.0,>=1.7.2->PyTDC) (0.44.0)\n",
      "Requirement already satisfied: six>=1.5 in /opt/conda/lib/python3.11/site-packages (from python-dateutil>=2.8.2->pandas<3.0.0,>=2.1.4->PyTDC) (1.16.0)\n",
      "Requirement already satisfied: aiobotocore<3.0.0,>=2.5.4 in /opt/conda/lib/python3.11/site-packages (from s3fs>=2021.06.1->cellxgene-census==1.15.0->PyTDC) (2.19.0)\n",
      "Requirement already satisfied: legacy-api-wrap>=1.4 in /opt/conda/lib/python3.11/site-packages (from scanpy>=1.9.2->tiledbsoma<2.0.0,>=1.7.2->PyTDC) (1.4.1)\n",
      "Requirement already satisfied: networkx>=2.7 in /opt/conda/lib/python3.11/site-packages (from scanpy>=1.9.2->tiledbsoma<2.0.0,>=1.7.2->PyTDC) (3.4.2)\n",
      "Requirement already satisfied: patsy!=1.0.0 in /opt/conda/lib/python3.11/site-packages (from scanpy>=1.9.2->tiledbsoma<2.0.0,>=1.7.2->PyTDC) (1.0.1)\n",
      "Requirement already satisfied: pynndescent>=0.5 in /opt/conda/lib/python3.11/site-packages (from scanpy>=1.9.2->tiledbsoma<2.0.0,>=1.7.2->PyTDC) (0.5.13)\n",
      "Requirement already satisfied: session-info in /opt/conda/lib/python3.11/site-packages (from scanpy>=1.9.2->tiledbsoma<2.0.0,>=1.7.2->PyTDC) (1.0.0)\n",
      "Requirement already satisfied: statsmodels>=0.13 in /opt/conda/lib/python3.11/site-packages (from scanpy>=1.9.2->tiledbsoma<2.0.0,>=1.7.2->PyTDC) (0.14.4)\n",
      "Requirement already satisfied: umap-learn!=0.5.0,>=0.5 in /opt/conda/lib/python3.11/site-packages (from scanpy>=1.9.2->tiledbsoma<2.0.0,>=1.7.2->PyTDC) (0.5.7)\n",
      "Requirement already satisfied: jinja2 in /opt/conda/lib/python3.11/site-packages (from torch>=1.10.0->accelerate==0.33.0->PyTDC) (3.1.4)\n",
      "Requirement already satisfied: nvidia-cuda-nvrtc-cu12==12.4.127 in /opt/conda/lib/python3.11/site-packages (from torch>=1.10.0->accelerate==0.33.0->PyTDC) (12.4.127)\n",
      "Requirement already satisfied: nvidia-cuda-runtime-cu12==12.4.127 in /opt/conda/lib/python3.11/site-packages (from torch>=1.10.0->accelerate==0.33.0->PyTDC) (12.4.127)\n",
      "Requirement already satisfied: nvidia-cuda-cupti-cu12==12.4.127 in /opt/conda/lib/python3.11/site-packages (from torch>=1.10.0->accelerate==0.33.0->PyTDC) (12.4.127)\n",
      "Requirement already satisfied: nvidia-cudnn-cu12==9.1.0.70 in /opt/conda/lib/python3.11/site-packages (from torch>=1.10.0->accelerate==0.33.0->PyTDC) (9.1.0.70)\n",
      "Requirement already satisfied: nvidia-cublas-cu12==12.4.5.8 in /opt/conda/lib/python3.11/site-packages (from torch>=1.10.0->accelerate==0.33.0->PyTDC) (12.4.5.8)\n",
      "Requirement already satisfied: nvidia-cufft-cu12==11.2.1.3 in /opt/conda/lib/python3.11/site-packages (from torch>=1.10.0->accelerate==0.33.0->PyTDC) (11.2.1.3)\n",
      "Requirement already satisfied: nvidia-curand-cu12==10.3.5.147 in /opt/conda/lib/python3.11/site-packages (from torch>=1.10.0->accelerate==0.33.0->PyTDC) (10.3.5.147)\n",
      "Requirement already satisfied: nvidia-cusolver-cu12==11.6.1.9 in /opt/conda/lib/python3.11/site-packages (from torch>=1.10.0->accelerate==0.33.0->PyTDC) (11.6.1.9)\n",
      "Requirement already satisfied: nvidia-cusparse-cu12==12.3.1.170 in /opt/conda/lib/python3.11/site-packages (from torch>=1.10.0->accelerate==0.33.0->PyTDC) (12.3.1.170)\n",
      "Requirement already satisfied: nvidia-nccl-cu12==2.21.5 in /opt/conda/lib/python3.11/site-packages (from torch>=1.10.0->accelerate==0.33.0->PyTDC) (2.21.5)\n",
      "Requirement already satisfied: nvidia-nvtx-cu12==12.4.127 in /opt/conda/lib/python3.11/site-packages (from torch>=1.10.0->accelerate==0.33.0->PyTDC) (12.4.127)\n",
      "Requirement already satisfied: nvidia-nvjitlink-cu12==12.4.127 in /opt/conda/lib/python3.11/site-packages (from torch>=1.10.0->accelerate==0.33.0->PyTDC) (12.4.127)\n",
      "Requirement already satisfied: triton==3.1.0 in /opt/conda/lib/python3.11/site-packages (from torch>=1.10.0->accelerate==0.33.0->PyTDC) (3.1.0)\n",
      "Requirement already satisfied: sympy==1.13.1 in /opt/conda/lib/python3.11/site-packages (from torch>=1.10.0->accelerate==0.33.0->PyTDC) (1.13.1)\n",
      "Requirement already satisfied: mpmath<1.4,>=1.1.0 in /opt/conda/lib/python3.11/site-packages (from sympy==1.13.1->torch>=1.10.0->accelerate==0.33.0->PyTDC) (1.3.0)\n",
      "Requirement already satisfied: decorator in /opt/conda/lib/python3.11/site-packages (from ipython->gget<1.0.0,>=0.28.4->PyTDC) (5.1.1)\n",
      "Requirement already satisfied: jedi>=0.16 in /opt/conda/lib/python3.11/site-packages (from ipython->gget<1.0.0,>=0.28.4->PyTDC) (0.19.1)\n",
      "Requirement already satisfied: matplotlib-inline in /opt/conda/lib/python3.11/site-packages (from ipython->gget<1.0.0,>=0.28.4->PyTDC) (0.1.7)\n",
      "Requirement already satisfied: prompt-toolkit<3.1.0,>=3.0.41 in /opt/conda/lib/python3.11/site-packages (from ipython->gget<1.0.0,>=0.28.4->PyTDC) (3.0.48)\n",
      "Requirement already satisfied: pygments>=2.4.0 in /opt/conda/lib/python3.11/site-packages (from ipython->gget<1.0.0,>=0.28.4->PyTDC) (2.18.0)\n",
      "Requirement already satisfied: stack-data in /opt/conda/lib/python3.11/site-packages (from ipython->gget<1.0.0,>=0.28.4->PyTDC) (0.6.2)\n",
      "Requirement already satisfied: traitlets>=5.13.0 in /opt/conda/lib/python3.11/site-packages (from ipython->gget<1.0.0,>=0.28.4->PyTDC) (5.14.3)\n",
      "Requirement already satisfied: pexpect>4.3 in /opt/conda/lib/python3.11/site-packages (from ipython->gget<1.0.0,>=0.28.4->PyTDC) (4.9.0)\n",
      "Requirement already satisfied: comm>=0.1.3 in /opt/conda/lib/python3.11/site-packages (from ipywidgets->gget<1.0.0,>=0.28.4->PyTDC) (0.2.2)\n",
      "Requirement already satisfied: widgetsnbextension~=4.0.12 in /opt/conda/lib/python3.11/site-packages (from ipywidgets->gget<1.0.0,>=0.28.4->PyTDC) (4.0.13)\n",
      "Requirement already satisfied: jupyterlab-widgets~=3.0.12 in /opt/conda/lib/python3.11/site-packages (from ipywidgets->gget<1.0.0,>=0.28.4->PyTDC) (3.0.13)\n",
      "Requirement already satisfied: aioitertools<1.0.0,>=0.5.1 in /opt/conda/lib/python3.11/site-packages (from aiobotocore<3.0.0,>=2.5.4->s3fs>=2021.06.1->cellxgene-census==1.15.0->PyTDC) (0.12.0)\n",
      "Requirement already satisfied: botocore<1.36.4,>=1.36.0 in /opt/conda/lib/python3.11/site-packages (from aiobotocore<3.0.0,>=2.5.4->s3fs>=2021.06.1->cellxgene-census==1.15.0->PyTDC) (1.36.3)\n",
      "Requirement already satisfied: jmespath<2.0.0,>=0.7.1 in /opt/conda/lib/python3.11/site-packages (from aiobotocore<3.0.0,>=2.5.4->s3fs>=2021.06.1->cellxgene-census==1.15.0->PyTDC) (1.0.1)\n",
      "Requirement already satisfied: wrapt<2.0.0,>=1.10.10 in /opt/conda/lib/python3.11/site-packages (from aiobotocore<3.0.0,>=2.5.4->s3fs>=2021.06.1->cellxgene-census==1.15.0->PyTDC) (1.17.2)\n",
      "Requirement already satisfied: parso<0.9.0,>=0.8.3 in /opt/conda/lib/python3.11/site-packages (from jedi>=0.16->ipython->gget<1.0.0,>=0.28.4->PyTDC) (0.8.4)\n",
      "Requirement already satisfied: ptyprocess>=0.5 in /opt/conda/lib/python3.11/site-packages (from pexpect>4.3->ipython->gget<1.0.0,>=0.28.4->PyTDC) (0.7.0)\n",
      "Requirement already satisfied: wcwidth in /opt/conda/lib/python3.11/site-packages (from prompt-toolkit<3.1.0,>=3.0.41->ipython->gget<1.0.0,>=0.28.4->PyTDC) (0.2.13)\n",
      "Requirement already satisfied: MarkupSafe>=2.0 in /opt/conda/lib/python3.11/site-packages (from jinja2->torch>=1.10.0->accelerate==0.33.0->PyTDC) (3.0.2)\n",
      "Requirement already satisfied: stdlib-list in /opt/conda/lib/python3.11/site-packages (from session-info->scanpy>=1.9.2->tiledbsoma<2.0.0,>=1.7.2->PyTDC) (0.11.0)\n",
      "Requirement already satisfied: executing>=1.2.0 in /opt/conda/lib/python3.11/site-packages (from stack-data->ipython->gget<1.0.0,>=0.28.4->PyTDC) (2.1.0)\n",
      "Requirement already satisfied: asttokens>=2.1.0 in /opt/conda/lib/python3.11/site-packages (from stack-data->ipython->gget<1.0.0,>=0.28.4->PyTDC) (2.4.1)\n",
      "Requirement already satisfied: pure-eval in /opt/conda/lib/python3.11/site-packages (from stack-data->ipython->gget<1.0.0,>=0.28.4->PyTDC) (0.2.3)\n"
     ]
    }
   ],
   "source": [
    "!pip install PyTDC"
   ]
  },
  {
   "cell_type": "code",
   "execution_count": 2,
   "id": "3f9feb10-6b8b-451e-a105-ea8499a1dac8",
   "metadata": {},
   "outputs": [
    {
     "name": "stdout",
     "output_type": "stream",
     "text": [
      "Requirement already satisfied: scikit-learn in /opt/conda/lib/python3.11/site-packages (1.2.2)\n",
      "Requirement already satisfied: numpy>=1.17.3 in /opt/conda/lib/python3.11/site-packages (from scikit-learn) (1.26.4)\n",
      "Requirement already satisfied: scipy>=1.3.2 in /opt/conda/lib/python3.11/site-packages (from scikit-learn) (1.15.1)\n",
      "Requirement already satisfied: joblib>=1.1.1 in /opt/conda/lib/python3.11/site-packages (from scikit-learn) (1.4.2)\n",
      "Requirement already satisfied: threadpoolctl>=2.0.0 in /opt/conda/lib/python3.11/site-packages (from scikit-learn) (3.5.0)\n"
     ]
    }
   ],
   "source": [
    "!pip install scikit-learn"
   ]
  },
  {
   "cell_type": "code",
   "execution_count": 3,
   "id": "f58a8578",
   "metadata": {},
   "outputs": [
    {
     "name": "stdout",
     "output_type": "stream",
     "text": [
      "Requirement already satisfied: rdkit in /opt/conda/lib/python3.11/site-packages (2023.9.6)\n",
      "Requirement already satisfied: numpy in /opt/conda/lib/python3.11/site-packages (from rdkit) (1.26.4)\n",
      "Requirement already satisfied: Pillow in /opt/conda/lib/python3.11/site-packages (from rdkit) (11.1.0)\n"
     ]
    }
   ],
   "source": [
    "!pip install rdkit"
   ]
  },
  {
   "cell_type": "code",
   "execution_count": 4,
   "id": "920b3544-8168-42c5-b79b-e6757dbd838c",
   "metadata": {},
   "outputs": [
    {
     "name": "stdout",
     "output_type": "stream",
     "text": [
      "Requirement already satisfied: psutil in /opt/conda/lib/python3.11/site-packages (6.0.0)\n",
      "Requirement already satisfied: pynvml in /opt/conda/lib/python3.11/site-packages (12.0.0)\n",
      "Requirement already satisfied: nvidia-ml-py<13.0.0a0,>=12.0.0 in /opt/conda/lib/python3.11/site-packages (from pynvml) (12.570.86)\n"
     ]
    }
   ],
   "source": [
    "!pip install psutil pynvml"
   ]
  },
  {
   "cell_type": "code",
   "execution_count": 5,
   "id": "4655bd26-77bc-417c-9961-a46c7e666e38",
   "metadata": {},
   "outputs": [
    {
     "name": "stdout",
     "output_type": "stream",
     "text": [
      "env: MLFLOW_TRACKING_SERVER_CERT_PATH=/home/jovyan/work/cert/ca.pem\n",
      "env: MLFLOW_TRACKING_URI=https://public-tracking.mlflow-e00v0qa5n6ywddys75.backbone-e00m8trsn6mra9a7kk.msp.eu-north1.nebius.cloud\n",
      "env: MLFLOW_TRACKING_USERNAME=mlops_course_admin\n",
      "env: MLFLOW_TRACKING_PASSWORD=NAv2VcZafgku5D$\n",
      "env: MLFLOW_ENABLE_SYSTEM_METRICS_LOGGING=true\n"
     ]
    }
   ],
   "source": [
    "%env MLFLOW_TRACKING_SERVER_CERT_PATH=/home/jovyan/work/cert/ca.pem\n",
    "%env MLFLOW_TRACKING_URI=https://public-tracking.mlflow-e00v0qa5n6ywddys75.backbone-e00m8trsn6mra9a7kk.msp.eu-north1.nebius.cloud\n",
    "%env MLFLOW_TRACKING_USERNAME=mlops_course_admin\n",
    "%env MLFLOW_TRACKING_PASSWORD=NAv2VcZafgku5D$\n",
    "%env MLFLOW_ENABLE_SYSTEM_METRICS_LOGGING=true"
   ]
  },
  {
   "cell_type": "code",
   "execution_count": 6,
   "id": "709cfe2e-8b93-479f-96bf-6d897ce0d08a",
   "metadata": {},
   "outputs": [
    {
     "name": "stderr",
     "output_type": "stream",
     "text": [
      "Found local copy...\n",
      "Loading...\n",
      "Done!\n"
     ]
    }
   ],
   "source": [
    "from tdc.multi_pred import TrialOutcome\n",
    "data = TrialOutcome(name = 'phase1') # 'phase2' / 'phase3'\n",
    "split = data.get_split()"
   ]
  },
  {
   "cell_type": "code",
   "execution_count": 7,
   "id": "08974b5c-9fbd-4c97-b9a8-95f55e9235d5",
   "metadata": {},
   "outputs": [],
   "source": [
    "import time\n",
    "from datetime import datetime\n",
    "\n",
    "def get_timestamp(date_str):\n",
    "    try:\n",
    "        # Cas où le jour est présent (ex: \"November 2, 2018\")\n",
    "        date_obj = datetime.strptime(date_str, \"%B %d, %Y\")\n",
    "    except ValueError:\n",
    "        # Cas où seul le mois et l'année sont présents (ex: \"July 2000\")\n",
    "        date_obj = datetime.strptime(date_str, \"%B %Y\")\n",
    "        date_obj = date_obj.replace(day=1)  # Ajouter le 1er du mois\n",
    "\n",
    "    return int(date_obj.timestamp())  # Convertir en timestamp (secondes)"
   ]
  },
  {
   "cell_type": "code",
   "execution_count": 8,
   "id": "75e9822b-9c4a-4360-b8fd-99e475ba78f5",
   "metadata": {},
   "outputs": [],
   "source": [
    "import numpy as np\n",
    "from sklearn.preprocessing import OneHotEncoder, StandardScaler\n",
    "from sklearn.feature_extraction.text import TfidfVectorizer\n",
    "from rdkit import Chem\n",
    "from rdkit.Chem import AllChem\n",
    "\n",
    "def compute_duration(start_date, complete_date):\n",
    "    \"\"\" Calcule la durée en gérant les erreurs \"\"\"\n",
    "    duration = []\n",
    "    for i in range(len(complete_date)):\n",
    "        try:\n",
    "            duration.append(get_timestamp(complete_date[i]) - get_timestamp(start_date[i]))\n",
    "        except:\n",
    "            duration.append(10**20)  # Valeur extrême pour éviter les erreurs\n",
    "    return np.array(duration).reshape(-1, 1)  # S'assurer que c'est bien une colonne\n",
    "\n",
    "def smiles_to_fp(smiles):\n",
    "    \"\"\" Convertit une liste de SMILES en une empreinte moléculaire moyenne \"\"\"\n",
    "    mols = [Chem.MolFromSmiles(s) for s in smiles.split('__') if Chem.MolFromSmiles(s)]\n",
    "    fps = [AllChem.GetMorganFingerprintAsBitVect(mol, 2, nBits=2048) for mol in mols]\n",
    "    return np.array(fps).mean(axis=0) if fps else np.zeros(2048)\n",
    "\n",
    "# Initialisation des encodeurs\n",
    "icd_encoder = OneHotEncoder(sparse_output=False, handle_unknown=\"ignore\")\n",
    "eligibility_encoder = TfidfVectorizer()\n",
    "duration_scaler = StandardScaler()\n",
    "\n",
    "def fit_transform_data(data):\n",
    "    \"\"\" Applique fit_transform sur les données d'entraînement \"\"\"\n",
    "    global icd_encoder, eligibility_encoder, duration_scaler  # Garder les mêmes encodeurs pour le test\n",
    "    \n",
    "    # Durée normalisée\n",
    "    duration = compute_duration(data[\"start_date\"], data[\"complete_date\"])\n",
    "    duration = duration_scaler.fit_transform(duration)  # Normalisation\n",
    "    \n",
    "    # Empreintes moléculaires RDKit\n",
    "    drug_molecules = np.array([smiles_to_fp(smiles) for smiles in data[\"drug_molecules\"]])\n",
    "    \n",
    "    # Encodage des autres features\n",
    "    icdcodes = icd_encoder.fit_transform(np.array(data[\"icdcodes\"]).reshape(-1, 1))\n",
    "    eligibility_criteria = eligibility_encoder.fit_transform(np.array(data[\"eligibility_criteria\"])).toarray()\n",
    "    \n",
    "    # Concaténation des features\n",
    "    X_train = np.concatenate([duration, drug_molecules, icdcodes, eligibility_criteria], axis=1)\n",
    "    return X_train\n",
    "\n",
    "def transform_data(data):\n",
    "    \"\"\" Applique transform sur les données de test (sans réentraîner les encodeurs) \"\"\"\n",
    "    global icd_encoder, eligibility_encoder, duration_scaler\n",
    "    \n",
    "    duration = compute_duration(data[\"start_date\"], data[\"complete_date\"])\n",
    "    duration = duration_scaler.transform(duration)  # Normalisation\n",
    "    \n",
    "    drug_molecules = np.array([smiles_to_fp(smiles) for smiles in data[\"drug_molecules\"]])\n",
    "    icdcodes = icd_encoder.transform(np.array(data[\"icdcodes\"]).reshape(-1, 1))\n",
    "    eligibility_criteria = eligibility_encoder.transform(np.array(data[\"eligibility_criteria\"])).toarray()\n",
    "    \n",
    "    X_test = np.concatenate([duration, drug_molecules, icdcodes, eligibility_criteria], axis=1)\n",
    "    return X_test\n"
   ]
  },
  {
   "cell_type": "code",
   "execution_count": 9,
   "id": "1e3ef580-d582-4b69-baab-afa12af510e6",
   "metadata": {},
   "outputs": [],
   "source": [
    "X_train = fit_transform_data(split[\"train\"])  # donnée d'entraînement\n",
    "Y_train_string = split[\"train\"][\"Y\"]\n",
    "Y_train = []\n",
    "\n",
    "for k in range(len(Y_train_string)):\n",
    "    Y_train.append(int(Y_train_string[k]))\n",
    "\n",
    "Y_train = np.array(Y_train)\n",
    "\n",
    "X_test = transform_data(split[\"test\"])  # Transformation des données de test sans réentraîner\n",
    "\n",
    "Y_test_string = split[\"test\"][\"Y\"]\n",
    "Y_test = []\n",
    "for k in range(len(Y_test_string)):\n",
    "    Y_test.append(int(Y_test_string[k]))\n",
    "\n",
    "Y_test = np.array(Y_test) # donée attendu"
   ]
  },
  {
   "cell_type": "code",
   "execution_count": 10,
   "id": "a140b077-b6b9-41e9-9b59-a7aed817cb50",
   "metadata": {},
   "outputs": [
    {
     "name": "stderr",
     "output_type": "stream",
     "text": [
      "2025/01/29 23:09:06 INFO mlflow.tracking.fluent: Autologging successfully enabled for sklearn.\n"
     ]
    }
   ],
   "source": [
    "import mlflow\n",
    "mlflow.autolog() # enable mlflow"
   ]
  },
  {
   "cell_type": "code",
   "execution_count": 11,
   "id": "903d988c-9033-4f68-a171-4d04649e67ed",
   "metadata": {},
   "outputs": [
    {
     "name": "stderr",
     "output_type": "stream",
     "text": [
      "2025/01/29 23:09:06 WARNING mlflow.utils.git_utils: Failed to import Git (the Git executable is probably not on your PATH), so Git SHA is not available. Error: Failed to initialize: Bad git executable.\n",
      "The git executable must be specified in one of the following ways:\n",
      "    - be included in your $PATH\n",
      "    - be set via $GIT_PYTHON_GIT_EXECUTABLE\n",
      "    - explicitly set via git.refresh(<full-path-to-git-executable>)\n",
      "\n",
      "All git commands will error until this is rectified.\n",
      "\n",
      "This initial message can be silenced or aggravated in the future by setting the\n",
      "$GIT_PYTHON_REFRESH environment variable. Use one of the following values:\n",
      "    - quiet|q|silence|s|silent|none|n|0: for no message or exception\n",
      "    - warn|w|warning|log|l|1: for a warning message (logging level CRITICAL, displayed by default)\n",
      "    - error|e|exception|raise|r|2: for a raised exception\n",
      "\n",
      "Example:\n",
      "    export GIT_PYTHON_REFRESH=quiet\n",
      "\n",
      "2025/01/29 23:09:07 WARNING mlflow.system_metrics.system_metrics_monitor: Skip logging GPU metrics because creating `GPUMonitor` failed with error: Failed to initialize NVML, skip logging GPU metrics: NVML Shared Library Not Found.\n",
      "2025/01/29 23:09:07 INFO mlflow.system_metrics.system_metrics_monitor: Started monitoring system metrics.\n",
      "2025/01/29 23:09:07 INFO mlflow.utils.autologging_utils: Created MLflow autologging run with ID '899c707094484da7b3ce291293ac8d43', which will track hyperparameters, performance metrics, model artifacts, and lineage information for the current sklearn workflow\n"
     ]
    },
    {
     "name": "stdout",
     "output_type": "stream",
     "text": [
      "🏃 View run secretive-ox-654 at: https://public-tracking.mlflow-e00v0qa5n6ywddys75.backbone-e00m8trsn6mra9a7kk.msp.eu-north1.nebius.cloud/#/experiments/0/runs/899c707094484da7b3ce291293ac8d43\n",
      "🧪 View experiment at: https://public-tracking.mlflow-e00v0qa5n6ywddys75.backbone-e00m8trsn6mra9a7kk.msp.eu-north1.nebius.cloud/#/experiments/0\n"
     ]
    },
    {
     "name": "stderr",
     "output_type": "stream",
     "text": [
      "2025/01/29 23:10:18 INFO mlflow.system_metrics.system_metrics_monitor: Stopping system metrics monitoring...\n",
      "2025/01/29 23:10:19 INFO mlflow.system_metrics.system_metrics_monitor: Successfully terminated system metrics monitoring!\n"
     ]
    },
    {
     "name": "stdout",
     "output_type": "stream",
     "text": [
      "Accuracy: 0.6\n",
      "Confusion Matrix:\n",
      " [[ 85 121]\n",
      " [ 71 203]]\n"
     ]
    }
   ],
   "source": [
    "# Model random lineaire\n",
    "from sklearn.linear_model import LogisticRegression  # Or LinearRegression\n",
    "from sklearn.metrics import accuracy_score, confusion_matrix\n",
    "\n",
    "# Initialize the model (for logistic regression if Y is binary)\n",
    "model = LogisticRegression()\n",
    "\n",
    "model.fit(X_train, Y_train)\n",
    "\n",
    "# Make predictions\n",
    "Y_pred = model.predict(X_test)  # Assuming X_test and Y_test are available for evaluation\n",
    "\n",
    "# Evaluate the model\n",
    "print(\"Accuracy:\", accuracy_score(Y_test, Y_pred))\n",
    "print(\"Confusion Matrix:\\n\", confusion_matrix(Y_test, Y_pred))"
   ]
  },
  {
   "cell_type": "code",
   "execution_count": 12,
   "id": "20f32120-41a2-40f4-9246-90ad0b397c69",
   "metadata": {},
   "outputs": [
    {
     "name": "stderr",
     "output_type": "stream",
     "text": [
      "2025/01/29 23:10:20 INFO mlflow.tracking.fluent: Autologging successfully enabled for xgboost.\n",
      "2025/01/29 23:10:21 WARNING mlflow.system_metrics.system_metrics_monitor: Skip logging GPU metrics because creating `GPUMonitor` failed with error: Failed to initialize NVML, skip logging GPU metrics: NVML Shared Library Not Found.\n",
      "2025/01/29 23:10:21 INFO mlflow.system_metrics.system_metrics_monitor: Started monitoring system metrics.\n",
      "2025/01/29 23:10:21 INFO mlflow.utils.autologging_utils: Created MLflow autologging run with ID '2de01b319a374e32a4decde6e288cb88', which will track hyperparameters, performance metrics, model artifacts, and lineage information for the current xgboost workflow\n"
     ]
    },
    {
     "name": "stdout",
     "output_type": "stream",
     "text": [
      "🏃 View run glamorous-conch-539 at: https://public-tracking.mlflow-e00v0qa5n6ywddys75.backbone-e00m8trsn6mra9a7kk.msp.eu-north1.nebius.cloud/#/experiments/0/runs/2de01b319a374e32a4decde6e288cb88\n",
      "🧪 View experiment at: https://public-tracking.mlflow-e00v0qa5n6ywddys75.backbone-e00m8trsn6mra9a7kk.msp.eu-north1.nebius.cloud/#/experiments/0\n"
     ]
    },
    {
     "name": "stderr",
     "output_type": "stream",
     "text": [
      "2025/01/30 07:19:23 INFO mlflow.system_metrics.system_metrics_monitor: Stopping system metrics monitoring...\n",
      "2025/01/30 07:19:23 INFO mlflow.system_metrics.system_metrics_monitor: Successfully terminated system metrics monitoring!\n"
     ]
    },
    {
     "name": "stdout",
     "output_type": "stream",
     "text": [
      "Accuracy: 0.6104166666666667\n",
      "Confusion Matrix:\n",
      " [[ 81 125]\n",
      " [ 62 212]]\n"
     ]
    }
   ],
   "source": [
    "from sklearn.metrics import accuracy_score, confusion_matrix\n",
    "import xgboost as xgb\n",
    "\n",
    "# Initialize the XGBoost model for binary classification\n",
    "model = xgb.XGBClassifier(\n",
    "    objective='binary:logistic',  # For binary classification\n",
    "    colsample_bytree=0.3,         # Fraction of features to use\n",
    "    learning_rate=0.1,            # Learning rate\n",
    "    max_depth=10,                  # Maximum depth of trees\n",
    "    alpha=10,                     # L2 regularization\n",
    "    n_estimators=200              # Number of trees\n",
    ")\n",
    "\n",
    "# Fit the model to the training data\n",
    "model.fit(X_train, Y_train)\n",
    "\n",
    "# Make predictions on the test data\n",
    "Y_pred = model.predict(X_test)\n",
    "\n",
    "# Evaluate the model\n",
    "print(\"Accuracy:\", accuracy_score(Y_test, Y_pred))\n",
    "print(\"Confusion Matrix:\\n\", confusion_matrix(Y_test, Y_pred))"
   ]
  }
 ],
 "metadata": {
  "kernelspec": {
   "display_name": "Python 3 (ipykernel)",
   "language": "python",
   "name": "python3"
  },
  "language_info": {
   "codemirror_mode": {
    "name": "ipython",
    "version": 3
   },
   "file_extension": ".py",
   "mimetype": "text/x-python",
   "name": "python",
   "nbconvert_exporter": "python",
   "pygments_lexer": "ipython3",
   "version": "3.11.10"
  }
 },
 "nbformat": 4,
 "nbformat_minor": 5
}
